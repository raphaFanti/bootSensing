version https://git-lfs.github.com/spec/v1
oid sha256:efa4242d3627aa5712e376e89dfe458e7757926a61560b70504e261bf809439b
size 1000348
