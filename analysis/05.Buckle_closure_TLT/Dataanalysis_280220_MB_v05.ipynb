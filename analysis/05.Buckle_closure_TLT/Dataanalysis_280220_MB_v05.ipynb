version https://git-lfs.github.com/spec/v1
oid sha256:49289fd7a730c6f19ca839142f2162e287d97e31857828a53dbe67c155ea178b
size 2138303
