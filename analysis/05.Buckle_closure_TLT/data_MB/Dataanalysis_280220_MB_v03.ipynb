version https://git-lfs.github.com/spec/v1
oid sha256:04623b563e4cdee68a5fe00ece192f4e8973e4c3c0d1b58f7f0683cdc42ff3d5
size 1174327
