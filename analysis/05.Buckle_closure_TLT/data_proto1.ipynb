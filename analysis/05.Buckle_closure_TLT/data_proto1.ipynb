version https://git-lfs.github.com/spec/v1
oid sha256:fc87f28f0f3115ba2cf6f880a07b69f75537d68b6dea4e5c5727e1ff87040a54
size 94299
