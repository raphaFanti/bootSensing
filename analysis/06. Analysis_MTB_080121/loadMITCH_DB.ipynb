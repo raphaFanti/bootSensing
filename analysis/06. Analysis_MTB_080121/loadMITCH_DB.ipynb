{
 "cells": [
  {
   "cell_type": "markdown",
   "metadata": {},
   "source": [
    "# MITCH DB Loader"
   ]
  },
  {
   "cell_type": "markdown",
   "metadata": {},
   "source": [
    "To make it easier to handle the experiment data from the MITCH, the .txt files will be loaded in a database named Bootsensing based on sql. You can access all data directly from the there with commands defined in this notebook. In addition we will add information about the experiment, the boot and the user."
   ]
  },
  {
   "cell_type": "code",
   "execution_count": 47,
   "metadata": {},
   "outputs": [],
   "source": [
    "import pandas as pd\n",
    "import numpy as np\n",
    "import sqlite3\n",
    "import csv"
   ]
  },
  {
   "cell_type": "markdown",
   "metadata": {},
   "source": [
    "Within filename you have to select the files to be loaded. It is important to define the experiment, the boot and the user for each file with the appropiate variable. In df_name please define the name of the file and in tablename the name of the table in the database. "
   ]
  },
  {
   "cell_type": "code",
   "execution_count": 72,
   "metadata": {},
   "outputs": [],
   "source": [
    "filename = ['13.01.2021 165241', '13.01.2021 183219', '13.01.2021 165315','13.01.2021 183301']\n",
    "#TimeShift = [0, 0] # Timeshift to match with other data [ms]\n",
    "experiment = ['Uphill','Downhill','Uphill','Downhill']\n",
    "bootname = ['Speedfit-SX', 'Speedfit-SX','Speedfit-DX', 'Speedfit-DX']\n",
    "username = ['Marilena', 'Marilena','Marilena', 'Marilena']\n",
    "df_name = 'Kuhleiten'\n",
    "tablename = 'Field_05exp'"
   ]
  },
  {
   "cell_type": "markdown",
   "metadata": {},
   "source": [
    "In this section all Mitch files are put togheter in a common data file with the same column names as in the original Mitch file."
   ]
  },
  {
   "cell_type": "code",
   "execution_count": 73,
   "metadata": {},
   "outputs": [],
   "source": [
    "# Create one list to append all files\n",
    "appendList = []\n",
    "# Define columns names of the list (same as in the files)\n",
    "col_names = ['Time','AccX','AccY','AccZ','GyroX','GyroY','GyroZ','MagnX','MagnY','MagnZ','P0','P1','P2','P3','P4','P5','P6','P7','Temperature']\n",
    "\n",
    "for i in range(len(filename)):\n",
    "    # Read txt files and add column names\n",
    "    ReadFile = pd.read_csv ('Files/'+ filename[i] + '.txt', delimiter='\\t', skiprows=9)\n",
    "    ReadFile.columns=col_names\n",
    "    # Create timestamp with date and time\n",
    "    ReadFile.Time = pd.to_datetime(ReadFile.Time, unit='ms')\n",
    "    \n",
    "    # Append each ReadFile to the appendList\n",
    "    appendList.append(ReadFile)\n",
    "\n",
    "# Transform appendList in to pandas format\n",
    "DataFile = pd.concat(appendList)"
   ]
  },
  {
   "cell_type": "markdown",
   "metadata": {},
   "source": [
    "All data is exported in one single csv file with the name you defined at the beginning in df_name."
   ]
  },
  {
   "cell_type": "code",
   "execution_count": 74,
   "metadata": {},
   "outputs": [],
   "source": [
    "data = DataFile.to_csv (df_name + '.csv', index=None)"
   ]
  },
  {
   "cell_type": "markdown",
   "metadata": {},
   "source": [
    "To store all information about the experiments, a dataframe called infotable is created. In this separate table the timestamp of the experiment file, the experiment description, the name of the boot and the user will be stored in the database. Each time new data is added, this table needs to be updated too."
   ]
  },
  {
   "cell_type": "code",
   "execution_count": 75,
   "metadata": {},
   "outputs": [],
   "source": [
    "# Create infotable DataFrame with experiments infos\n",
    "infotable = pd.DataFrame() # initialize pd DataFrame infotable\n",
    "starttime = []\n",
    "endtime = []\n",
    "\n",
    "for i in range(len(filename)): \n",
    "    exp_starttime = appendList[i]['Time'].iloc[0] # select full starttime timestamp for starting time of each experiment\n",
    "    exp_endtime = appendList[i]['Time'].iloc[-1]\n",
    "    starttime.append(exp_starttime) \n",
    "    endtime.append(exp_endtime) \n",
    "    \n",
    "# Define infotable columns    \n",
    "infotable['Starttime'] = starttime\n",
    "infotable['Endtime'] = endtime\n",
    "infotable['Experiment'] = experiment\n",
    "infotable['Boot'] = bootname\n",
    "infotable['User'] = username\n"
   ]
  },
  {
   "cell_type": "markdown",
   "metadata": {},
   "source": [
    "First, you have to connect with the database. Within the database a table with the name defined in df_name for each experiment will be created and filled with the above loaded data. Once the data is stored, the connection to the database need to be closed."
   ]
  },
  {
   "cell_type": "code",
   "execution_count": 76,
   "metadata": {},
   "outputs": [],
   "source": [
    "# Connect with database and create curser\n",
    "con = sqlite3.connect('BootsensingDB.db')\n",
    "cur = con.cursor()\n",
    "\n",
    "# Create and access infotable\n",
    "cur.execute(\"\"\"CREATE TABLE IF NOT EXISTS {}(Starttime TEXT, Endtime TEXT, Experiment TEXT,Boot TEXT,User TEXT)\"\"\".format('infotable'))\n",
    "# Commit the changes\n",
    "con.commit()\n",
    "# Append data to infotable\n",
    "infotable.to_sql('infotable', con, if_exists='append', index=False)\n",
    "\n",
    "# Create a new table for data\n",
    "# Types in SQLite: str -> TEXT , int -> INTEGER , float -> REAL\n",
    "cur.execute(\"\"\"CREATE TABLE IF NOT EXISTS {}(Time TEXT,AccX REAL, AccY REAL,\n",
    "                                             AccZ REAL, GyroX REAL, GyroY REAL,GyroZ REAL, MagnX REAL, MagnY REAL,\n",
    "                                             MagnZ REAL, P0 REAL,P1 REAL, P2 REAL, P3 REAL, P4 REAL, P5 REAL, P6 REAL,\n",
    "                                             P7 REAL, Temperature REAL)\"\"\".format(tablename))\n",
    "# Commit the changes\n",
    "con.commit()\n",
    "# Load data into DataFrame\n",
    "#filename = tablename + '.csv'\n",
    "df = pd.read_csv(df_name + '.csv', delimiter=',')\n",
    "# Load DataFrame in database  \n",
    "df.to_sql(tablename, con, if_exists='replace', index=False)\n",
    "# Close the database connection\n",
    "con.close()"
   ]
  },
  {
   "cell_type": "markdown",
   "metadata": {},
   "source": [
    "# Infotable query"
   ]
  },
  {
   "cell_type": "markdown",
   "metadata": {},
   "source": [
    "To get the experiment information from the infotable a query using the timestamp of the starting time of the experiment needs to be done."
   ]
  },
  {
   "cell_type": "code",
   "execution_count": 28,
   "metadata": {},
   "outputs": [
    {
     "name": "stdout",
     "output_type": "stream",
     "text": [
      "[('DXcold', '1-DX', 'User 1')]\n"
     ]
    }
   ],
   "source": [
    "# Enter date and time of the dataline to search infos\n",
    "date = '2021-01-08' # yyyy - mm - dd format\n",
    "time = '13:48:30.5000' # hh:mm:ss.uuuuuu\n",
    "\n",
    "# Create timestamp for query in right format\n",
    "timestamp_query = date + \" \" + time\n",
    "\n",
    "# Database connection and cursor\n",
    "con = sqlite3.connect('BootsensingDB.db')\n",
    "cur = con.cursor()\n",
    "\n",
    "cur.execute(\"SELECT Experiment, Boot, User FROM infotable WHERE (Starttime <= ? AND ? <= Endtime)\", (timestamp_query,timestamp_query,))\n",
    "\n",
    "myresult = cur.fetchall()\n",
    "\n",
    "con.close()\n",
    "\n",
    "print(myresult)"
   ]
  },
  {
   "cell_type": "code",
   "execution_count": null,
   "metadata": {},
   "outputs": [],
   "source": []
  },
  {
   "cell_type": "code",
   "execution_count": null,
   "metadata": {},
   "outputs": [],
   "source": []
  }
 ],
 "metadata": {
  "kernelspec": {
   "display_name": "Python 3",
   "language": "python",
   "name": "python3"
  },
  "language_info": {
   "codemirror_mode": {
    "name": "ipython",
    "version": 3
   },
   "file_extension": ".py",
   "mimetype": "text/x-python",
   "name": "python",
   "nbconvert_exporter": "python",
   "pygments_lexer": "ipython3",
   "version": "3.8.5"
  }
 },
 "nbformat": 4,
 "nbformat_minor": 4
}
