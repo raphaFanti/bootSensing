{
 "cells": [
  {
   "cell_type": "code",
   "execution_count": 1,
   "metadata": {},
   "outputs": [],
   "source": [
    "import pandas as pd\n",
    "import numpy as np\n",
    "import sqlite3\n",
    "import matplotlib\n",
    "import matplotlib.pyplot as plt\n",
    "import matplotlib.dates as mdates\n",
    "from matplotlib import style\n",
    "import csv"
   ]
  },
  {
   "cell_type": "code",
   "execution_count": 2,
   "metadata": {},
   "outputs": [],
   "source": [
    "filename = ['08.01.2021 100929', '08.01.2021 104013', '08.01.2021 112923', '08.01.2021 134757']\n",
    "TimeShift = [0, 0, 0, 0] # Shift time to match with other data. In (ms)\n",
    "experiment = ['DXambient', 'SXambient', 'SXcold', 'DXcold']\n",
    "bootname = ['1-Left', '1-Left', '1-Left', '1-Left']\n",
    "username = ['User 1', 'User 1', 'User 1', 'User 1']"
   ]
  },
  {
   "cell_type": "code",
   "execution_count": 3,
   "metadata": {},
   "outputs": [],
   "source": [
    "appendList = []\n",
    "col_names = ['Time','AccX','AccY','AccZ','GyroX','GyroY','GyroZ','MagnX','MagnY','MagnZ','P0','P1','P2','P3','P4','P5','P6','P7','Temperature']\n",
    "\n",
    "for i in range(len(filename)):\n",
    "    # Read in the .txt -files and insert the column-names\n",
    "    ReadFile = pd.read_csv ('Files/'+filename[i]+'.txt', delimiter='\\t', skiprows=9)\n",
    "    ReadFile.columns=col_names\n",
    "    # Change timestamp to date and time\n",
    "    ReadFile.Time = pd.to_datetime(ReadFile.Time + TimeShift[i], unit='ms')\n",
    "    # Insert additional columns\n",
    "    ReadFile.insert(1, 'Experiment', experiment[i])\n",
    "    ReadFile.insert(2, 'Boot', bootname[i])\n",
    "    ReadFile.insert(3, 'User', username[i])\n",
    "    # Append all files together\n",
    "    appendList.append(ReadFile)\n",
    "\n",
    "# Concatenate list of appended files\n",
    "DataFile = pd.concat(appendList)"
   ]
  },
  {
   "cell_type": "code",
   "execution_count": 4,
   "metadata": {},
   "outputs": [],
   "source": [
    "data = DataFile.to_csv (r'testtext2.csv', index=None)"
   ]
  },
  {
   "cell_type": "code",
   "execution_count": null,
   "metadata": {},
   "outputs": [],
   "source": []
  },
  {
   "cell_type": "code",
   "execution_count": 5,
   "metadata": {},
   "outputs": [],
   "source": [
    "# Connect with database and create curser\n",
    "con = sqlite3.connect('testDB.db')\n",
    "cur = con.cursor()\n",
    "# Set name of table\n",
    "tablename = 'test333'\n",
    "# Create a new SQL-Table if none exists, with name set in  tablename\n",
    "# Types in SQLite: str -> TEXT , int -> INTEGER , float -> REAL\n",
    "cur.execute(\"\"\"CREATE TABLE IF NOT EXISTS {}(Time TEXT, Experiment TEXT, Boot TEXT, User TEXT,AccX REAL, AccY REAL,\n",
    "                                             AccZ REAL, GyroX REAL, GyroY REAL,GyroZ REAL, MagnX REAL, MagnY REAL,\n",
    "                                             MagnZ REAL, P0 REAL,P1 REAL, P2 REAL, P3 REAL, P4 REAL, P5 REAL, P6 REAL,\n",
    "                                             P7 REAL, Temperature REAL)\"\"\".format('table_name'))\n",
    "# Save (commit) the changes\n",
    "con.commit()\n",
    "# Open the .csv -file and lode it into DataFrame\n",
    "df = pd.read_csv('testtext2.csv', delimiter=',')\n",
    "# Insert DataFrame to SQL-Table\n",
    "df.to_sql(tablename, con, if_exists='replace', index=False)\n",
    "# Securely close the connection\n",
    "con.close()"
   ]
  },
  {
   "cell_type": "code",
   "execution_count": null,
   "metadata": {},
   "outputs": [],
   "source": []
  }
 ],
 "metadata": {
  "kernelspec": {
   "display_name": "Python 3",
   "language": "python",
   "name": "python3"
  },
  "language_info": {
   "codemirror_mode": {
    "name": "ipython",
    "version": 3
   },
   "file_extension": ".py",
   "mimetype": "text/x-python",
   "name": "python",
   "nbconvert_exporter": "python",
   "pygments_lexer": "ipython3",
   "version": "3.8.5"
  }
 },
 "nbformat": 4,
 "nbformat_minor": 4
}
