{
 "cells": [
  {
   "cell_type": "markdown",
   "metadata": {},
   "source": [
    "# Reproducibility analysis"
   ]
  },
  {
   "cell_type": "markdown",
   "metadata": {},
   "source": [
    "Here we are going to analize the exported data of the skiboot testing machine (force, angular displacement) in terms of reproducibility. The machine data export in .tdms format is converted by \"tdms file importer\" created by Raph to .csv files which contain for every experiment the data of all below listed sessions.   "
   ]
  },
  {
   "cell_type": "markdown",
   "metadata": {},
   "source": [
    "Experiments at Montebelluna 08.01.2021: Cyclic loading of TLT Speedfit DX and SX with maximal angular displacement as input, starting at an absolut neutral angle of 15°\n",
    "Frequency: f=0.7 Hz\n",
    "ambient = 20°C\n",
    "cold = -20°C\n",
    "Session 1: max. 20,5°\n",
    "Session 2: max. 22,5°\n",
    "Session 3: max. 25,5°\n",
    "Session 4: max. 30,5°\n",
    "\n",
    "For each boot (DX and SX) two experiments (ambient and cold) were done containing 4 sessions a 10 cycles each. For each experiment a time series file in .csv is loaded.\n"
   ]
  },
  {
   "cell_type": "code",
   "execution_count": null,
   "metadata": {},
   "outputs": [],
   "source": []
  }
 ],
 "metadata": {
  "kernelspec": {
   "display_name": "Python 3",
   "language": "python",
   "name": "python3"
  },
  "language_info": {
   "codemirror_mode": {
    "name": "ipython",
    "version": 3
   },
   "file_extension": ".py",
   "mimetype": "text/x-python",
   "name": "python",
   "nbconvert_exporter": "python",
   "pygments_lexer": "ipython3",
   "version": "3.8.5"
  }
 },
 "nbformat": 4,
 "nbformat_minor": 4
}
