{
 "cells": [
  {
   "cell_type": "markdown",
   "metadata": {},
   "source": [
    "# Reproducibility analysis"
   ]
  },
  {
   "cell_type": "markdown",
   "metadata": {},
   "source": [
    "Here we are going to analize the exported data of the skiboot testing machine (force, angular displacement) in terms of reproducibility. The machine data export in .tdms format is converted by \"tdms file importer\" created by Raph to .csv files which contain for every experiment the data of all below listed sessions.   "
   ]
  },
  {
   "cell_type": "markdown",
   "metadata": {},
   "source": [
    "Experiments at Montebelluna 08.01.2021: Cyclic loading of TLT Speedfit DX and SX with maximal angular displacement as input, starting at an absolut neutral angle of 15°\n",
    "Frequency: f=0.7 Hz\n",
    "ambient = 20°C\n",
    "cold = -20°C\n",
    "Session 1: max. 20,5°\n",
    "Session 2: max. 22,5°\n",
    "Session 3: max. 25,5°\n",
    "Session 4: max. 30,5°\n",
    "\n",
    "For each boot (DX and SX) two experiments (ambient and cold) were done containing 4 sessions a 10 cycles each. For each experiment a time series file in .csv is loaded.\n"
   ]
  },
  {
   "cell_type": "code",
   "execution_count": 2,
   "metadata": {},
   "outputs": [],
   "source": [
    "import pandas as pd\n",
    "import numpy as np\n",
    "import matplotlib.pyplot as plt\n",
    "from matplotlib.pyplot import figure"
   ]
  },
  {
   "cell_type": "code",
   "execution_count": 3,
   "metadata": {},
   "outputs": [
    {
     "name": "stdout",
     "output_type": "stream",
     "text": [
      "Start time: 2021-01-08 10:10:55.052250\n",
      "<class 'pandas.core.frame.DataFrame'>\n",
      "RangeIndex: 400070 entries, 0 to 400069\n",
      "Data columns (total 7 columns):\n",
      " #   Column      Non-Null Count   Dtype         \n",
      "---  ------      --------------   -----         \n",
      " 0   time        400070 non-null  datetime64[ns]\n",
      " 1   experiment  400070 non-null  object        \n",
      " 2   session #   400070 non-null  int64         \n",
      " 3   cycle #     400070 non-null  int64         \n",
      " 4   position    400070 non-null  float64       \n",
      " 5   force       400070 non-null  float64       \n",
      " 6   temp        400070 non-null  float64       \n",
      "dtypes: datetime64[ns](1), float64(3), int64(2), object(1)\n",
      "memory usage: 21.4+ MB\n",
      "None\n"
     ]
    }
   ],
   "source": [
    "#path_file = \"C:\\Users\\kurmaril\\Desktop\\Sharepoint_Data\\CSVexports_timeseries\"\n",
    "#path_file = sys.path.insert(0, '/path/to/application/app/Sharepoint_Data/CSVexports_timeseries')\n",
    "    \n",
    "mtb_filename = 'Montebelluna_8Jan21_time_series.csv'\n",
    "\n",
    "df_mtb = pd.read_csv(mtb_filename, index_col = 0)\n",
    "\n",
    "# converting time column into correct time format\n",
    "df_mtb[\"time\"] = pd.to_datetime(df_mtb[\"time\"])\n",
    "df_mtb.sort_values(\"time\", inplace = True)\n",
    "df_mtb.reset_index(drop = True, inplace = True)\n",
    "\n",
    "print(\"Start time: \" + str(df_mtb[\"time\"].min()))\n",
    "print(df_mtb.info())"
   ]
  },
  {
   "cell_type": "markdown",
   "metadata": {},
   "source": [
    "# Standard deviation analysis\n",
    "For each experiment the standard deviation of the ratio \"force/position\" is calculated for every single session 1-4. The result is shown in the plot below. Attention: For \"DXAmbient\" only cycle 1 and 10 have been registred, for the other 3 experiments 10 cycles each. "
   ]
  },
  {
   "cell_type": "code",
   "execution_count": 4,
   "metadata": {},
   "outputs": [
    {
     "data": {
      "image/png": "[encoded data removed]",
      "text/plain": [
       "<Figure size 432x288 with 1 Axes>"
      ]
     },
     "metadata": {
      "needs_background": "light"
     },
     "output_type": "display_data"
    }
   ],
   "source": [
    "# Calculating standard deviation from (force/position) for every single experiment\n",
    "\n",
    "# DXambient\n",
    "df_DXambient = df_mtb[df_mtb[\"experiment\"] == \"DxAmbient\"]\n",
    "df_DX_ambient_s = {}\n",
    "std_dev_DX_ambient_s = {}\n",
    "# DX cold\n",
    "df_DXcold = df_mtb[df_mtb[\"experiment\"] == \"DxCold\"]\n",
    "df_DX_cold_s = {}\n",
    "std_dev_DX_cold_s = {}\n",
    "\n",
    "# SX ambient\n",
    "df_SXambient = df_mtb[df_mtb[\"experiment\"] == \"SxAmbient\"]\n",
    "df_SX_ambient_s = {}\n",
    "std_dev_SX_ambient_s = {}\n",
    "# SX cold\n",
    "df_SXcold = df_mtb[df_mtb[\"experiment\"] == \"SxCold\"]\n",
    "df_SX_cold_s = {}\n",
    "std_dev_SX_cold_s = {}\n",
    "\n",
    "for i in range(1,5):\n",
    "    df_SX_ambient_s[i] = df_SXambient[df_SXambient[\"session #\"] == i]\n",
    "    std_dev_SX_ambient_s[i] = np.std(df_SX_ambient_s[i]['force']/df_SX_ambient_s[i]['position'])\n",
    "    df_SX_cold_s[i] = df_SXcold[df_SXcold[\"session #\"] == i]\n",
    "    std_dev_SX_cold_s[i] = np.std(df_SX_cold_s[i]['force']/df_SX_cold_s[i]['position'])\n",
    "    df_DX_ambient_s[i] = df_DXambient[df_DXambient[\"session #\"] == i]\n",
    "    std_dev_DX_ambient_s[i] = np.std(df_DX_ambient_s[i]['force']/df_DX_ambient_s[i]['position'])\n",
    "    df_DX_cold_s[i] = df_DXcold[df_DXcold[\"session #\"] == i]\n",
    "    std_dev_DX_cold_s[i] = np.std(df_DX_cold_s[i]['force']/df_DX_cold_s[i]['position'])\n",
    "\n",
    "std_dev_SX_ambient = pd.DataFrame(std_dev_SX_ambient_s,index=[1]).transpose()\n",
    "std_dev_SX_cold = pd.DataFrame(std_dev_SX_cold_s,index=[1]).transpose()\n",
    "std_dev_DX_ambient = pd.DataFrame(std_dev_DX_ambient_s,index=[1]).transpose()\n",
    "std_dev_DX_cold = pd.DataFrame(std_dev_DX_cold_s,index=[1]).transpose()\n",
    "\n",
    "plt.plot(std_dev_SX_ambient,'ro',std_dev_SX_cold,'bo',std_dev_DX_ambient,'yo',std_dev_DX_cold,'go')\n",
    "plt.legend(['std_dev_SX_ambient','std_dev_SX_cold','std_dev_DX_ambient','std_dev_DX_cold'])\n",
    "plt.xlabel('session #')\n",
    "plt.ylabel('std_dev(force/angle)')\n",
    "plt.show()"
   ]
  },
  {
   "cell_type": "markdown",
   "metadata": {},
   "source": [
    "The trend between the experiments is similar, the standard deviation of the force/angle ratio in DXambient and SXambient for each session seems quite similar, where there is a significant offset between the \"ambient\" and \"cold\" experiments.\n",
    "It has to be mentioned, that every boot seems to deliver different result on the skiboot testing machine, but also at the current project stage we are not sure about the influences on the test method itself, e.g. discrapancy between left and right prothesis or buckle closure."
   ]
  },
  {
   "cell_type": "markdown",
   "metadata": {},
   "source": [
    "# MinMax analysis"
   ]
  },
  {
   "cell_type": "markdown",
   "metadata": {},
   "source": [
    "The protocol for the different experiments is always the same: for each session 1-4 the boot is loaded in forward lean until a maximum angle (called 'position' in the dataframe) for every single cycle 1-10 and the correspondent force is measured. Also in backward an minimum angle is presetted and the corresponding force evaluated. In this section we will take a look at the forces for the maximum and minimum angle for the single cycles within a session of an experiment.\n",
    "In addition also the difference in amplitude between peaks (max) and valleys (min) for each cycle is calculated."
   ]
  },
  {
   "cell_type": "code",
   "execution_count": 33,
   "metadata": {},
   "outputs": [
    {
     "ename": "TypeError",
     "evalue": "unhashable type: 'slice'",
     "output_type": "error",
     "traceback": [
      "\u001b[1;31m---------------------------------------------------------------------------\u001b[0m",
      "\u001b[1;31mTypeError\u001b[0m                                 Traceback (most recent call last)",
      "\u001b[1;32m<ipython-input-33-ff3957bc9d1b>\u001b[0m in \u001b[0;36m<module>\u001b[1;34m\u001b[0m\n\u001b[0;32m     48\u001b[0m         \u001b[0mdiff_force_SX_ambient\u001b[0m\u001b[1;33m[\u001b[0m\u001b[0mi\u001b[0m\u001b[1;33m,\u001b[0m\u001b[0mj\u001b[0m\u001b[1;33m]\u001b[0m \u001b[1;33m=\u001b[0m \u001b[0mmax_force_SX_ambient_s_c\u001b[0m\u001b[1;33m.\u001b[0m\u001b[0mloc\u001b[0m\u001b[1;33m[\u001b[0m\u001b[0mi\u001b[0m\u001b[1;33m,\u001b[0m\u001b[0mj\u001b[0m\u001b[1;33m]\u001b[0m \u001b[1;33m-\u001b[0m \u001b[0mmin_force_SX_ambient_s_c\u001b[0m\u001b[1;33m.\u001b[0m\u001b[0mloc\u001b[0m\u001b[1;33m[\u001b[0m\u001b[0mi\u001b[0m\u001b[1;33m,\u001b[0m\u001b[0mj\u001b[0m\u001b[1;33m]\u001b[0m\u001b[1;33m\u001b[0m\u001b[1;33m\u001b[0m\u001b[0m\n\u001b[0;32m     49\u001b[0m         \u001b[0mdiff_force_SX_cold\u001b[0m\u001b[1;33m[\u001b[0m\u001b[0mi\u001b[0m\u001b[1;33m,\u001b[0m\u001b[0mj\u001b[0m\u001b[1;33m]\u001b[0m \u001b[1;33m=\u001b[0m \u001b[0mmax_force_SX_cold_s_c\u001b[0m\u001b[1;33m.\u001b[0m\u001b[0mloc\u001b[0m\u001b[1;33m[\u001b[0m\u001b[0mi\u001b[0m\u001b[1;33m,\u001b[0m\u001b[0mj\u001b[0m\u001b[1;33m]\u001b[0m \u001b[1;33m-\u001b[0m \u001b[0mmin_force_SX_cold_s_c\u001b[0m\u001b[1;33m.\u001b[0m\u001b[0mloc\u001b[0m\u001b[1;33m[\u001b[0m\u001b[0mi\u001b[0m\u001b[1;33m,\u001b[0m\u001b[0mj\u001b[0m\u001b[1;33m]\u001b[0m\u001b[1;33m\u001b[0m\u001b[1;33m\u001b[0m\u001b[0m\n\u001b[1;32m---> 50\u001b[1;33m \u001b[0mstd_diff_SX_cold\u001b[0m \u001b[1;33m=\u001b[0m \u001b[0mnp\u001b[0m\u001b[1;33m.\u001b[0m\u001b[0mstd\u001b[0m\u001b[1;33m(\u001b[0m\u001b[0mdiff_force_SX_cold\u001b[0m\u001b[1;33m[\u001b[0m\u001b[1;36m1\u001b[0m\u001b[1;33m,\u001b[0m\u001b[1;33m:\u001b[0m\u001b[1;33m]\u001b[0m\u001b[1;33m)\u001b[0m\u001b[1;33m\u001b[0m\u001b[1;33m\u001b[0m\u001b[0m\n\u001b[0m\u001b[0;32m     51\u001b[0m \u001b[0mprint\u001b[0m\u001b[1;33m(\u001b[0m\u001b[0mstd_diff_SX_cold\u001b[0m\u001b[1;33m)\u001b[0m\u001b[1;33m\u001b[0m\u001b[1;33m\u001b[0m\u001b[0m\n\u001b[0;32m     52\u001b[0m \u001b[1;33m\u001b[0m\u001b[0m\n",
      "\u001b[1;31mTypeError\u001b[0m: unhashable type: 'slice'"
     ]
    }
   ],
   "source": [
    "# SX_AMBIENT, SX_COLD & DX_COLD\n",
    "df_SX_ambient_s_c = {}\n",
    "max_force_SX_ambient_s_c = {}\n",
    "min_force_SX_ambient_s_c = {}\n",
    "df_SX_cold_s_c = {}\n",
    "max_force_SX_cold_s_c = {}\n",
    "min_force_SX_cold_s_c = {}\n",
    "df_DX_ambient_s_c = {}\n",
    "max_force_DX_ambient_s_c = {}\n",
    "min_force_DX_ambient_s_c = {}\n",
    "df_DX_cold_s_c = {}\n",
    "max_force_DX_cold_s_c = {}\n",
    "min_force_DX_cold_s_c = {}\n",
    "\n",
    "for i in range(1,5):\n",
    "    for j in range(1,10):\n",
    "        df_SX_ambient_s_c[i,j] = df_SX_ambient_s[i][df_SX_ambient_s[i][\"cycle #\"] == j]\n",
    "        max_force_SX_ambient_s_c[i,j] = max(df_SX_ambient_s_c[i,j]['force'])\n",
    "        min_force_SX_ambient_s_c[i,j] = min(df_SX_ambient_s_c[i,j]['force'])\n",
    "        df_SX_cold_s_c[i,j] = df_SX_cold_s[i][df_SX_cold_s[i][\"cycle #\"] == j]\n",
    "        max_force_SX_cold_s_c[i,j] = max(df_SX_cold_s_c[i,j]['force'])\n",
    "        min_force_SX_cold_s_c[i,j] = min(df_SX_cold_s_c[i,j]['force'])\n",
    "        df_DX_cold_s_c[i,j] = df_DX_cold_s[i][df_DX_cold_s[i][\"cycle #\"] == j]\n",
    "        max_force_DX_cold_s_c[i,j] = max(df_DX_cold_s_c[i,j]['force'])\n",
    "        min_force_DX_cold_s_c[i,j] = min(df_DX_cold_s_c[i,j]['force'])\n",
    "    df_DX_ambient_s_c[i,1] = df_DX_ambient_s[i][df_DX_ambient_s[i][\"cycle #\"] == 1]\n",
    "    max_force_DX_ambient_s_c[i,1] = max(df_DX_ambient_s_c[i,1]['force'])\n",
    "    min_force_DX_ambient_s_c[i,1] = min(df_DX_ambient_s_c[i,1]['force'])\n",
    "    df_DX_ambient_s_c[i,2] = df_DX_ambient_s[i][df_DX_ambient_s[i][\"cycle #\"] == 10]\n",
    "    max_force_DX_ambient_s_c[i,2] = max(df_DX_ambient_s_c[i,2]['force'])\n",
    "    min_force_DX_ambient_s_c[i,2] = min(df_DX_ambient_s_c[i,2]['force'])\n",
    "        \n",
    "max_force_SX_ambient_s_c = pd.DataFrame(max_force_SX_ambient_s_c,index=[1]).transpose()\n",
    "min_force_SX_ambient_s_c = pd.DataFrame(min_force_SX_ambient_s_c,index=[1]).transpose()\n",
    "max_force_SX_cold_s_c = pd.DataFrame(max_force_SX_cold_s_c,index=[1]).transpose()\n",
    "min_force_SX_cold_s_c = pd.DataFrame(min_force_SX_cold_s_c,index=[1]).transpose()\n",
    "max_force_DX_cold_s_c = pd.DataFrame(max_force_DX_cold_s_c,index=[1]).transpose()\n",
    "min_force_DX_cold_s_c = pd.DataFrame(min_force_DX_cold_s_c,index=[1]).transpose()\n",
    "max_force_DX_ambient_s_c = pd.DataFrame(max_force_DX_ambient_s_c,index=[1]).transpose()\n",
    "min_force_DX_ambient_s_c = pd.DataFrame(min_force_DX_ambient_s_c,index=[1]).transpose()\n",
    "\n",
    "# Calculating difference between min und max within one cycle\n",
    "diff_force_SX_ambient = {}\n",
    "diff_force_SX_cold = {}\n",
    "std_diff_SX_cold = {}\n",
    "for i in range(1,5):\n",
    "    for j in range(1,10):\n",
    "        diff_force_SX_ambient[i,j] = max_force_SX_ambient_s_c.loc[i,j] - min_force_SX_ambient_s_c.loc[i,j]\n",
    "        diff_force_SX_cold[i,j] = max_force_SX_cold_s_c.loc[i,j] - min_force_SX_cold_s_c.loc[i,j]\n",
    "\n",
    "print(std_diff_SX_cold)\n",
    "        \n",
    "# Max force plot per session 1-4\n",
    "fig1, ax1 = plt.subplots(2, 2, figsize=(13, 11))\n",
    "ax1[0,0].plot(max_force_SX_ambient_s_c.loc[1,:],'ro',max_force_SX_cold_s_c.loc[1,:],'bo',max_force_DX_cold_s_c.loc[1,:],'go',max_force_DX_ambient_s_c.loc[1,1],'yo')\n",
    "ax1[0,0].set(xlabel= 'cycle #', ylabel='max(F)')\n",
    "ax1[0,0].set_title('Session 1')\n",
    "ax1[0,1].plot(max_force_SX_ambient_s_c.loc[2,:],'ro',max_force_SX_cold_s_c.loc[2,:],'bo',max_force_DX_cold_s_c.loc[1,:],'go',max_force_DX_ambient_s_c.loc[2,1],'yo')\n",
    "ax1[0,1].set(xlabel= 'cycle #',ylabel='max(F)')\n",
    "ax1[0,1].set_title('Session 2')\n",
    "ax1[1,0].plot(max_force_SX_ambient_s_c.loc[3,:],'ro',max_force_SX_cold_s_c.loc[3,:],'bo',max_force_DX_cold_s_c.loc[1,:],'go',max_force_DX_ambient_s_c.loc[3,1],'yo')\n",
    "ax1[1,0].set(xlabel= 'cycle #',ylabel='max(F)')\n",
    "ax1[1,0].set_title('Session 3')\n",
    "ax1[1,1].plot(max_force_SX_ambient_s_c.loc[4,:],'ro',max_force_SX_cold_s_c.loc[4,:],'bo',max_force_DX_cold_s_c.loc[1,:],'go',max_force_DX_ambient_s_c.loc[4,1],'yo')\n",
    "ax1[1,1].set(xlabel= 'cycle #',ylabel='max(F)')\n",
    "ax1[1,1].set_title('Session 4')\n",
    "plt.legend(['std_dev_SX_ambient','std_dev_SX_cold','std_dev_DX_cold','std_dev_DX_ambient'])\n",
    "fig1.suptitle('Maxium force per cycle', fontsize=12)\n",
    "\n",
    "# Min force plot per session 1-4\n",
    "fig2, ax2 = plt.subplots(2, 2, figsize=(13, 11))\n",
    "ax2[0,0].plot(min_force_SX_ambient_s_c.loc[1,:],'ro',min_force_SX_cold_s_c.loc[1,:],'bo',min_force_DX_cold_s_c.loc[1,:],'go',min_force_DX_ambient_s_c.loc[1,1],'yo')\n",
    "ax2[0,0].set(xlabel= 'cycle #', ylabel='min(F)')\n",
    "ax2[0,0].set_title('Session 1')\n",
    "ax2[0,1].plot(min_force_SX_ambient_s_c.loc[2,:],'ro',min_force_SX_cold_s_c.loc[2,:],'bo',min_force_DX_cold_s_c.loc[2,:],'go',min_force_DX_ambient_s_c.loc[2,1],'yo')\n",
    "ax2[0,1].set(xlabel= 'cycle #',ylabel='min(F)')\n",
    "ax2[0,1].set_title('Session 2')\n",
    "ax2[1,0].plot(min_force_SX_ambient_s_c.loc[3,:],'ro',min_force_SX_cold_s_c.loc[3,:],'bo',min_force_DX_cold_s_c.loc[3,:],'go',min_force_DX_ambient_s_c.loc[3,1],'yo')\n",
    "ax2[1,0].set(xlabel= 'cycle #',ylabel='min(F)')\n",
    "ax2[1,0].set_title('Session 3')\n",
    "ax2[1,1].plot(min_force_SX_ambient_s_c.loc[4,:],'ro',min_force_SX_cold_s_c.loc[4,:],'bo',min_force_DX_cold_s_c.loc[4,:],'go',min_force_DX_ambient_s_c.loc[4,1],'yo')\n",
    "ax2[1,1].set(xlabel= 'cycle #',ylabel='min(F)')\n",
    "ax2[1,1].set_title('Session 4')\n",
    "plt.legend(['std_dev_SX_ambient','std_dev_SX_cold','std_dev_DX_cold','std_dev_DX_ambient'])\n",
    "fig2.suptitle('Minimum force per cycle', fontsize=12)\n",
    "\n",
    "plt.show()"
   ]
  },
  {
   "cell_type": "markdown",
   "metadata": {},
   "source": [
    "# Standard deviation of min & max "
   ]
  },
  {
   "cell_type": "code",
   "execution_count": 20,
   "metadata": {},
   "outputs": [
    {
     "data": {
      "image/png": "[encoded data removed]",
      "text/plain": [
       "<Figure size 432x288 with 1 Axes>"
      ]
     },
     "metadata": {
      "needs_background": "light"
     },
     "output_type": "display_data"
    }
   ],
   "source": [
    "# Per session\n",
    "std_max_force_DX = pd.DataFrame()\n",
    "std_min_force_DX = pd.DataFrame()\n",
    "std_max_force_SX = pd.DataFrame()\n",
    "std_min_force_SX = pd.DataFrame()\n",
    "\n",
    "for i in range(1,5):\n",
    "    std_max_force_SX[i] = [np.std(max_force_SX_ambient_s_c.loc[i,:]), np.std(max_force_SX_cold_s_c.loc[i,:])]\n",
    "    std_min_force_SX[i] = [np.std(min_force_SX_ambient_s_c.loc[i,:]), np.std(min_force_SX_cold_s_c.loc[i,:])]\n",
    "    std_max_force_DX[i] = [np.std(max_force_DX_cold_s_c.loc[i,:])]\n",
    "    std_min_force_DX[i] = [np.std(min_force_DX_cold_s_c.loc[i,:])]\n",
    "\n",
    "plt.plot(std_max_force_SX.loc[0],'ro',std_max_force_SX.loc[1],'bo',std_min_force_SX.loc[0],'go',std_min_force_SX.loc[1],'go')\n",
    "plt.show()"
   ]
  },
  {
   "cell_type": "markdown",
   "metadata": {},
   "source": [
    "# MinMax Plot"
   ]
  },
  {
   "cell_type": "code",
   "execution_count": 11,
   "metadata": {},
   "outputs": [
    {
     "data": {
      "image/png": "[encoded data removed]",
      "text/plain": [
       "<Figure size 432x288 with 1 Axes>"
      ]
     },
     "metadata": {
      "needs_background": "light"
     },
     "output_type": "display_data"
    }
   ],
   "source": [
    "# Min & Max value per experiment and session\n",
    "df_SX_ambient_max = {}\n",
    "df_SX_cold_max = {}\n",
    "df_DX_ambient_max = {}\n",
    "df_DX_cold_max = {}\n",
    "\n",
    "for i in range(1,5):\n",
    "    df_SX_ambient_max[i] = max(df_SXambient[df_SXambient[\"session #\"] == i]['force'])\n",
    "    df_SX_cold_max[i] = max(df_SXcold[df_SXcold[\"session #\"] == i]['force'])\n",
    "    df_DX_cold_max[i] = max(df_DXcold[df_DXcold[\"session #\"] == i]['force'])\n",
    "    df_DX_ambient_max[i] = max(df_DXambient[df_DXambient[\"session #\"] == i]['force'])\n",
    "    \n",
    "max_force_SX_ambient_s = pd.DataFrame(df_SX_ambient_max,index=[1]).transpose()\n",
    "max_force_SX_cold_s = pd.DataFrame(df_SX_cold_max,index=[1]).transpose()\n",
    "max_force_DX_ambient_s = pd.DataFrame(df_DX_ambient_max,index=[1]).transpose()\n",
    "max_force_DX_cold_s = pd.DataFrame(df_DX_cold_max,index=[1]).transpose()\n",
    "df_mtb['position']    \n",
    "plt.plot(max_force_SX_ambient_s,'ro',max_force_SX_cold_s,'bo',max_force_DX_ambient_s,'yo',max_force_DX_cold_s,'go')\n",
    "plt.legend(['max_force_SX_ambient_s','max_force_SX_cold_s','max_force_DX_ambient_s','max_force_DX_cold_s'])\n",
    "plt.show()"
   ]
  },
  {
   "cell_type": "code",
   "execution_count": 7,
   "metadata": {},
   "outputs": [
    {
     "ename": "NameError",
     "evalue": "name 'min_force_SX_ambient_s' is not defined",
     "output_type": "error",
     "traceback": [
      "\u001b[1;31m---------------------------------------------------------------------------\u001b[0m",
      "\u001b[1;31mNameError\u001b[0m                                 Traceback (most recent call last)",
      "\u001b[1;32m<ipython-input-7-bc98d4d22bc5>\u001b[0m in \u001b[0;36m<module>\u001b[1;34m\u001b[0m\n\u001b[1;32m----> 1\u001b[1;33m \u001b[0mmin_force_SX_ambient_s\u001b[0m\u001b[1;33m\u001b[0m\u001b[1;33m\u001b[0m\u001b[0m\n\u001b[0m",
      "\u001b[1;31mNameError\u001b[0m: name 'min_force_SX_ambient_s' is not defined"
     ]
    }
   ],
   "source": [
    "min_force_SX_ambient_s"
   ]
  },
  {
   "cell_type": "code",
   "execution_count": null,
   "metadata": {},
   "outputs": [],
   "source": []
  }
 ],
 "metadata": {
  "kernelspec": {
   "display_name": "Python 3",
   "language": "python",
   "name": "python3"
  },
  "language_info": {
   "codemirror_mode": {
    "name": "ipython",
    "version": 3
   },
   "file_extension": ".py",
   "mimetype": "text/x-python",
   "name": "python",
   "nbconvert_exporter": "python",
   "pygments_lexer": "ipython3",
   "version": "3.8.5"
  }
 },
 "nbformat": 4,
 "nbformat_minor": 4
}
